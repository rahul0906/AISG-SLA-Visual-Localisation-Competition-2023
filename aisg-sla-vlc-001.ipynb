{
 "cells": [
  {
   "cell_type": "code",
   "execution_count": 1,
   "id": "7af8684b",
   "metadata": {
    "_cell_guid": "b1076dfc-b9ad-4769-8c92-a6c4dae69d19",
    "_uuid": "8f2839f25d086af736a60e9eeb907d3b93b6e0e5",
    "execution": {
     "iopub.execute_input": "2023-07-27T00:16:39.602419Z",
     "iopub.status.busy": "2023-07-27T00:16:39.602013Z",
     "iopub.status.idle": "2023-07-27T00:16:39.843222Z",
     "shell.execute_reply": "2023-07-27T00:16:39.841974Z"
    },
    "papermill": {
     "duration": 0.250901,
     "end_time": "2023-07-27T00:16:39.846006",
     "exception": false,
     "start_time": "2023-07-27T00:16:39.595105",
     "status": "completed"
    },
    "tags": []
   },
   "outputs": [],
   "source": [
    "import numpy as np\n",
    "import pandas as pd\n",
    "import matplotlib.pyplot as plt\n",
    "from tqdm import tqdm \n",
    "import json\n",
    "import os\n",
    "\n",
    "import cv2"
   ]
  },
  {
   "cell_type": "code",
   "execution_count": 2,
   "id": "a52d747d",
   "metadata": {
    "execution": {
     "iopub.execute_input": "2023-07-27T00:16:39.856770Z",
     "iopub.status.busy": "2023-07-27T00:16:39.856351Z",
     "iopub.status.idle": "2023-07-27T00:16:40.096733Z",
     "shell.execute_reply": "2023-07-27T00:16:40.095612Z"
    },
    "papermill": {
     "duration": 0.248708,
     "end_time": "2023-07-27T00:16:40.099384",
     "exception": false,
     "start_time": "2023-07-27T00:16:39.850676",
     "status": "completed"
    },
    "tags": []
   },
   "outputs": [
    {
     "name": "stdout",
     "output_type": "stream",
     "text": [
      "['180502_025112897_Camera_0.jpg', '180502_025113792_Camera_0.jpg', '180502_025114667_Camera_0.jpg', '180502_025115519_Camera_0.jpg', '180502_025116352_Camera_0.jpg']\n",
      "['180502_042908860_Camera_0.jpg', '180502_042910326_Camera_0.jpg', '180502_042911574_Camera_0.jpg', '180502_042912665_Camera_0.jpg', '180502_042913653_Camera_0.jpg']\n",
      "10007\n"
     ]
    }
   ],
   "source": [
    "imgs1 = sorted(os.listdir('/kaggle/input/aisgsla-visual-localisation-challenge/train_images-1/train_images-1'))\n",
    "imgs2 = sorted(os.listdir('/kaggle/input/aisgsla-visual-localisation-challenge/train_images-2/train_images-2'))\n",
    "imgs3 = sorted(os.listdir('/kaggle/input/aisgsla-visual-localisation-challenge/train_images-3/train_images-3'))\n",
    "imgs4 = sorted(os.listdir('/kaggle/input/aisgsla-visual-localisation-challenge/train_images-4/train_images-4'))\n",
    "print(imgs1[:5])\n",
    "print(imgs2[:5])\n",
    "print(len(imgs1) + len(imgs2) + len(imgs3) + len(imgs4))"
   ]
  },
  {
   "cell_type": "code",
   "execution_count": 3,
   "id": "2ab818ba",
   "metadata": {
    "execution": {
     "iopub.execute_input": "2023-07-27T00:16:40.110851Z",
     "iopub.status.busy": "2023-07-27T00:16:40.110208Z",
     "iopub.status.idle": "2023-07-27T00:16:40.189349Z",
     "shell.execute_reply": "2023-07-27T00:16:40.188210Z"
    },
    "papermill": {
     "duration": 0.087791,
     "end_time": "2023-07-27T00:16:40.191768",
     "exception": false,
     "start_time": "2023-07-27T00:16:40.103977",
     "status": "completed"
    },
    "tags": []
   },
   "outputs": [
    {
     "data": {
      "text/html": [
       "<div>\n",
       "<style scoped>\n",
       "    .dataframe tbody tr th:only-of-type {\n",
       "        vertical-align: middle;\n",
       "    }\n",
       "\n",
       "    .dataframe tbody tr th {\n",
       "        vertical-align: top;\n",
       "    }\n",
       "\n",
       "    .dataframe thead th {\n",
       "        text-align: right;\n",
       "    }\n",
       "</style>\n",
       "<table border=\"1\" class=\"dataframe\">\n",
       "  <thead>\n",
       "    <tr style=\"text-align: right;\">\n",
       "      <th></th>\n",
       "      <th>Filename</th>\n",
       "      <th>TrajectoryId</th>\n",
       "      <th>Timestamp</th>\n",
       "      <th>Easting</th>\n",
       "      <th>Northing</th>\n",
       "      <th>Height</th>\n",
       "      <th>Roll</th>\n",
       "      <th>Pitch</th>\n",
       "      <th>Yaw</th>\n",
       "    </tr>\n",
       "  </thead>\n",
       "  <tbody>\n",
       "    <tr>\n",
       "      <th>0</th>\n",
       "      <td>180502_025112897_Camera_0.jpg</td>\n",
       "      <td>1</td>\n",
       "      <td>2018-05-02 02:51:12.897</td>\n",
       "      <td>34768.9649</td>\n",
       "      <td>42018.1341</td>\n",
       "      <td>15.2489</td>\n",
       "      <td>153.736106</td>\n",
       "      <td>85.940147</td>\n",
       "      <td>-40.957096</td>\n",
       "    </tr>\n",
       "    <tr>\n",
       "      <th>1</th>\n",
       "      <td>180502_025113792_Camera_0.jpg</td>\n",
       "      <td>1</td>\n",
       "      <td>2018-05-02 02:51:13.792</td>\n",
       "      <td>34778.6576</td>\n",
       "      <td>42015.2686</td>\n",
       "      <td>15.3827</td>\n",
       "      <td>151.596473</td>\n",
       "      <td>86.596676</td>\n",
       "      <td>-44.765011</td>\n",
       "    </tr>\n",
       "    <tr>\n",
       "      <th>2</th>\n",
       "      <td>180502_025114667_Camera_0.jpg</td>\n",
       "      <td>1</td>\n",
       "      <td>2018-05-02 02:51:14.667</td>\n",
       "      <td>34788.2019</td>\n",
       "      <td>42012.2234</td>\n",
       "      <td>15.5128</td>\n",
       "      <td>164.269207</td>\n",
       "      <td>86.387958</td>\n",
       "      <td>-32.456497</td>\n",
       "    </tr>\n",
       "    <tr>\n",
       "      <th>3</th>\n",
       "      <td>180502_025115519_Camera_0.jpg</td>\n",
       "      <td>1</td>\n",
       "      <td>2018-05-02 02:51:15.519</td>\n",
       "      <td>34797.7536</td>\n",
       "      <td>42009.2379</td>\n",
       "      <td>15.6768</td>\n",
       "      <td>171.573787</td>\n",
       "      <td>85.015664</td>\n",
       "      <td>-24.603357</td>\n",
       "    </tr>\n",
       "    <tr>\n",
       "      <th>4</th>\n",
       "      <td>180502_025116352_Camera_0.jpg</td>\n",
       "      <td>1</td>\n",
       "      <td>2018-05-02 02:51:16.352</td>\n",
       "      <td>34807.4525</td>\n",
       "      <td>42006.2781</td>\n",
       "      <td>15.9175</td>\n",
       "      <td>178.834049</td>\n",
       "      <td>86.007892</td>\n",
       "      <td>-17.139556</td>\n",
       "    </tr>\n",
       "  </tbody>\n",
       "</table>\n",
       "</div>"
      ],
      "text/plain": [
       "                        Filename  TrajectoryId                Timestamp  \\\n",
       "0  180502_025112897_Camera_0.jpg             1  2018-05-02 02:51:12.897   \n",
       "1  180502_025113792_Camera_0.jpg             1  2018-05-02 02:51:13.792   \n",
       "2  180502_025114667_Camera_0.jpg             1  2018-05-02 02:51:14.667   \n",
       "3  180502_025115519_Camera_0.jpg             1  2018-05-02 02:51:15.519   \n",
       "4  180502_025116352_Camera_0.jpg             1  2018-05-02 02:51:16.352   \n",
       "\n",
       "      Easting    Northing   Height        Roll      Pitch        Yaw  \n",
       "0  34768.9649  42018.1341  15.2489  153.736106  85.940147 -40.957096  \n",
       "1  34778.6576  42015.2686  15.3827  151.596473  86.596676 -44.765011  \n",
       "2  34788.2019  42012.2234  15.5128  164.269207  86.387958 -32.456497  \n",
       "3  34797.7536  42009.2379  15.6768  171.573787  85.015664 -24.603357  \n",
       "4  34807.4525  42006.2781  15.9175  178.834049  86.007892 -17.139556  "
      ]
     },
     "execution_count": 3,
     "metadata": {},
     "output_type": "execute_result"
    }
   ],
   "source": [
    "df = pd.read_csv('/kaggle/input/aisgsla-visual-localisation-challenge/train_labels.csv')\n",
    "df.head()"
   ]
  },
  {
   "cell_type": "code",
   "execution_count": 4,
   "id": "a45574de",
   "metadata": {
    "execution": {
     "iopub.execute_input": "2023-07-27T00:16:40.203604Z",
     "iopub.status.busy": "2023-07-27T00:16:40.202612Z",
     "iopub.status.idle": "2023-07-27T00:16:40.212380Z",
     "shell.execute_reply": "2023-07-27T00:16:40.211592Z"
    },
    "papermill": {
     "duration": 0.018012,
     "end_time": "2023-07-27T00:16:40.214617",
     "exception": false,
     "start_time": "2023-07-27T00:16:40.196605",
     "status": "completed"
    },
    "tags": []
   },
   "outputs": [
    {
     "data": {
      "text/plain": [
       "{'fx': 935.6461822571149,\n",
       " 'fy': 935.7779926708049,\n",
       " 'Cx': 1501.8278990534407,\n",
       " 'Cy': 1016.1713538034546,\n",
       " 'k1': 0,\n",
       " 'k2': 0,\n",
       " 'k3': 0,\n",
       " 'k4': 0,\n",
       " 'P1': 0,\n",
       " 'P2': 0}"
      ]
     },
     "execution_count": 4,
     "metadata": {},
     "output_type": "execute_result"
    }
   ],
   "source": [
    "json_path = '/kaggle/input/aisgsla-visual-localisation-challenge/intrinsic_parameters.json'\n",
    "with open(json_path, 'r') as f:\n",
    "    f = json.load(f)\n",
    "f"
   ]
  },
  {
   "cell_type": "code",
   "execution_count": 5,
   "id": "bc6668d2",
   "metadata": {
    "execution": {
     "iopub.execute_input": "2023-07-27T00:16:40.226740Z",
     "iopub.status.busy": "2023-07-27T00:16:40.226081Z",
     "iopub.status.idle": "2023-07-27T00:16:40.268217Z",
     "shell.execute_reply": "2023-07-27T00:16:40.267040Z"
    },
    "papermill": {
     "duration": 0.050912,
     "end_time": "2023-07-27T00:16:40.270641",
     "exception": false,
     "start_time": "2023-07-27T00:16:40.219729",
     "status": "completed"
    },
    "tags": []
   },
   "outputs": [
    {
     "data": {
      "text/html": [
       "<div>\n",
       "<style scoped>\n",
       "    .dataframe tbody tr th:only-of-type {\n",
       "        vertical-align: middle;\n",
       "    }\n",
       "\n",
       "    .dataframe tbody tr th {\n",
       "        vertical-align: top;\n",
       "    }\n",
       "\n",
       "    .dataframe thead th {\n",
       "        text-align: right;\n",
       "    }\n",
       "</style>\n",
       "<table border=\"1\" class=\"dataframe\">\n",
       "  <thead>\n",
       "    <tr style=\"text-align: right;\">\n",
       "      <th></th>\n",
       "      <th>Filename</th>\n",
       "      <th>TrajectoryId</th>\n",
       "      <th>Timestamp</th>\n",
       "      <th>Easting</th>\n",
       "      <th>Northing</th>\n",
       "      <th>Height</th>\n",
       "      <th>Roll</th>\n",
       "      <th>Pitch</th>\n",
       "      <th>Yaw</th>\n",
       "    </tr>\n",
       "  </thead>\n",
       "  <tbody>\n",
       "    <tr>\n",
       "      <th>0</th>\n",
       "      <td>180426_001523864_Camera_0.jpg</td>\n",
       "      <td>5</td>\n",
       "      <td>2018-04-26 00:15:23.864</td>\n",
       "      <td>0.0</td>\n",
       "      <td>0.0</td>\n",
       "      <td>0.0</td>\n",
       "      <td>0.0</td>\n",
       "      <td>0.0</td>\n",
       "      <td>0.0</td>\n",
       "    </tr>\n",
       "    <tr>\n",
       "      <th>1</th>\n",
       "      <td>180426_001524766_Camera_0.jpg</td>\n",
       "      <td>5</td>\n",
       "      <td>2018-04-26 00:15:24.766</td>\n",
       "      <td>0.0</td>\n",
       "      <td>0.0</td>\n",
       "      <td>0.0</td>\n",
       "      <td>0.0</td>\n",
       "      <td>0.0</td>\n",
       "      <td>0.0</td>\n",
       "    </tr>\n",
       "    <tr>\n",
       "      <th>2</th>\n",
       "      <td>180426_001525604_Camera_0.jpg</td>\n",
       "      <td>5</td>\n",
       "      <td>2018-04-26 00:15:25.604</td>\n",
       "      <td>0.0</td>\n",
       "      <td>0.0</td>\n",
       "      <td>0.0</td>\n",
       "      <td>0.0</td>\n",
       "      <td>0.0</td>\n",
       "      <td>0.0</td>\n",
       "    </tr>\n",
       "    <tr>\n",
       "      <th>3</th>\n",
       "      <td>180426_001526397_Camera_0.jpg</td>\n",
       "      <td>5</td>\n",
       "      <td>2018-04-26 00:15:26.397</td>\n",
       "      <td>0.0</td>\n",
       "      <td>0.0</td>\n",
       "      <td>0.0</td>\n",
       "      <td>0.0</td>\n",
       "      <td>0.0</td>\n",
       "      <td>0.0</td>\n",
       "    </tr>\n",
       "    <tr>\n",
       "      <th>4</th>\n",
       "      <td>180426_001527166_Camera_0.jpg</td>\n",
       "      <td>5</td>\n",
       "      <td>2018-04-26 00:15:27.166</td>\n",
       "      <td>0.0</td>\n",
       "      <td>0.0</td>\n",
       "      <td>0.0</td>\n",
       "      <td>0.0</td>\n",
       "      <td>0.0</td>\n",
       "      <td>0.0</td>\n",
       "    </tr>\n",
       "    <tr>\n",
       "      <th>...</th>\n",
       "      <td>...</td>\n",
       "      <td>...</td>\n",
       "      <td>...</td>\n",
       "      <td>...</td>\n",
       "      <td>...</td>\n",
       "      <td>...</td>\n",
       "      <td>...</td>\n",
       "      <td>...</td>\n",
       "      <td>...</td>\n",
       "    </tr>\n",
       "    <tr>\n",
       "      <th>2214</th>\n",
       "      <td>180426_014301019_Camera_0.jpg</td>\n",
       "      <td>5</td>\n",
       "      <td>2018-04-26 01:43:01.019</td>\n",
       "      <td>0.0</td>\n",
       "      <td>0.0</td>\n",
       "      <td>0.0</td>\n",
       "      <td>0.0</td>\n",
       "      <td>0.0</td>\n",
       "      <td>0.0</td>\n",
       "    </tr>\n",
       "    <tr>\n",
       "      <th>2215</th>\n",
       "      <td>180426_014301810_Camera_0.jpg</td>\n",
       "      <td>5</td>\n",
       "      <td>2018-04-26 01:43:01.810</td>\n",
       "      <td>0.0</td>\n",
       "      <td>0.0</td>\n",
       "      <td>0.0</td>\n",
       "      <td>0.0</td>\n",
       "      <td>0.0</td>\n",
       "      <td>0.0</td>\n",
       "    </tr>\n",
       "    <tr>\n",
       "      <th>2216</th>\n",
       "      <td>180426_014302621_Camera_0.jpg</td>\n",
       "      <td>5</td>\n",
       "      <td>2018-04-26 01:43:02.621</td>\n",
       "      <td>0.0</td>\n",
       "      <td>0.0</td>\n",
       "      <td>0.0</td>\n",
       "      <td>0.0</td>\n",
       "      <td>0.0</td>\n",
       "      <td>0.0</td>\n",
       "    </tr>\n",
       "    <tr>\n",
       "      <th>2217</th>\n",
       "      <td>180426_014303476_Camera_0.jpg</td>\n",
       "      <td>5</td>\n",
       "      <td>2018-04-26 01:43:03.476</td>\n",
       "      <td>0.0</td>\n",
       "      <td>0.0</td>\n",
       "      <td>0.0</td>\n",
       "      <td>0.0</td>\n",
       "      <td>0.0</td>\n",
       "      <td>0.0</td>\n",
       "    </tr>\n",
       "    <tr>\n",
       "      <th>2218</th>\n",
       "      <td>180426_014304396_Camera_0.jpg</td>\n",
       "      <td>5</td>\n",
       "      <td>2018-04-26 01:43:04.396</td>\n",
       "      <td>0.0</td>\n",
       "      <td>0.0</td>\n",
       "      <td>0.0</td>\n",
       "      <td>0.0</td>\n",
       "      <td>0.0</td>\n",
       "      <td>0.0</td>\n",
       "    </tr>\n",
       "  </tbody>\n",
       "</table>\n",
       "<p>2219 rows × 9 columns</p>\n",
       "</div>"
      ],
      "text/plain": [
       "                           Filename  TrajectoryId                Timestamp  \\\n",
       "0     180426_001523864_Camera_0.jpg             5  2018-04-26 00:15:23.864   \n",
       "1     180426_001524766_Camera_0.jpg             5  2018-04-26 00:15:24.766   \n",
       "2     180426_001525604_Camera_0.jpg             5  2018-04-26 00:15:25.604   \n",
       "3     180426_001526397_Camera_0.jpg             5  2018-04-26 00:15:26.397   \n",
       "4     180426_001527166_Camera_0.jpg             5  2018-04-26 00:15:27.166   \n",
       "...                             ...           ...                      ...   \n",
       "2214  180426_014301019_Camera_0.jpg             5  2018-04-26 01:43:01.019   \n",
       "2215  180426_014301810_Camera_0.jpg             5  2018-04-26 01:43:01.810   \n",
       "2216  180426_014302621_Camera_0.jpg             5  2018-04-26 01:43:02.621   \n",
       "2217  180426_014303476_Camera_0.jpg             5  2018-04-26 01:43:03.476   \n",
       "2218  180426_014304396_Camera_0.jpg             5  2018-04-26 01:43:04.396   \n",
       "\n",
       "      Easting  Northing  Height  Roll  Pitch  Yaw  \n",
       "0         0.0       0.0     0.0   0.0    0.0  0.0  \n",
       "1         0.0       0.0     0.0   0.0    0.0  0.0  \n",
       "2         0.0       0.0     0.0   0.0    0.0  0.0  \n",
       "3         0.0       0.0     0.0   0.0    0.0  0.0  \n",
       "4         0.0       0.0     0.0   0.0    0.0  0.0  \n",
       "...       ...       ...     ...   ...    ...  ...  \n",
       "2214      0.0       0.0     0.0   0.0    0.0  0.0  \n",
       "2215      0.0       0.0     0.0   0.0    0.0  0.0  \n",
       "2216      0.0       0.0     0.0   0.0    0.0  0.0  \n",
       "2217      0.0       0.0     0.0   0.0    0.0  0.0  \n",
       "2218      0.0       0.0     0.0   0.0    0.0  0.0  \n",
       "\n",
       "[2219 rows x 9 columns]"
      ]
     },
     "execution_count": 5,
     "metadata": {},
     "output_type": "execute_result"
    }
   ],
   "source": [
    "pd.read_csv('/kaggle/input/aisgsla-visual-localisation-challenge/submission_format.csv')"
   ]
  },
  {
   "cell_type": "markdown",
   "id": "592551fb",
   "metadata": {
    "papermill": {
     "duration": 0.006064,
     "end_time": "2023-07-27T00:16:40.282220",
     "exception": false,
     "start_time": "2023-07-27T00:16:40.276156",
     "status": "completed"
    },
    "tags": []
   },
   "source": [
    "Original Image Shape: (2048, 2869, 3)\n"
   ]
  },
  {
   "cell_type": "code",
   "execution_count": 6,
   "id": "ec63c5fa",
   "metadata": {
    "execution": {
     "iopub.execute_input": "2023-07-27T00:16:40.295370Z",
     "iopub.status.busy": "2023-07-27T00:16:40.294965Z",
     "iopub.status.idle": "2023-07-27T00:16:41.145092Z",
     "shell.execute_reply": "2023-07-27T00:16:41.143813Z"
    },
    "papermill": {
     "duration": 0.859253,
     "end_time": "2023-07-27T00:16:41.147609",
     "exception": false,
     "start_time": "2023-07-27T00:16:40.288356",
     "status": "completed"
    },
    "tags": []
   },
   "outputs": [
    {
     "name": "stderr",
     "output_type": "stream",
     "text": [
      "100%|██████████| 5/5 [00:00<00:00,  9.77it/s]\n"
     ]
    },
    {
     "data": {
      "text/plain": [
       "<matplotlib.image.AxesImage at 0x7820784f5b40>"
      ]
     },
     "execution_count": 6,
     "metadata": {},
     "output_type": "execute_result"
    },
    {
     "data": {
      "image/png": "[encoded data removed]",
      "text/plain": [
       "<Figure size 640x480 with 1 Axes>"
      ]
     },
     "metadata": {},
     "output_type": "display_data"
    }
   ],
   "source": [
    "train_path1 = '/kaggle/input/aisgsla-visual-localisation-challenge/train_images-1/train_images-1/'\n",
    "for i in tqdm(range(len(imgs1[:5]))):\n",
    "    img = cv2.imread(train_path1 + imgs1[i], cv2.COLOR_BGR2RGB)\n",
    "    img = cv2.resize(img, (64, 64))\n",
    "    img = img/255.0\n",
    "plt.imshow(img)"
   ]
  },
  {
   "cell_type": "code",
   "execution_count": 7,
   "id": "a9dd51f6",
   "metadata": {
    "execution": {
     "iopub.execute_input": "2023-07-27T00:16:41.163989Z",
     "iopub.status.busy": "2023-07-27T00:16:41.163460Z",
     "iopub.status.idle": "2023-07-27T00:16:56.690779Z",
     "shell.execute_reply": "2023-07-27T00:16:56.689502Z"
    },
    "papermill": {
     "duration": 15.538728,
     "end_time": "2023-07-27T00:16:56.693531",
     "exception": false,
     "start_time": "2023-07-27T00:16:41.154803",
     "status": "completed"
    },
    "tags": []
   },
   "outputs": [
    {
     "name": "stderr",
     "output_type": "stream",
     "text": [
      "/opt/conda/lib/python3.10/site-packages/torchvision/models/_utils.py:208: UserWarning: The parameter 'pretrained' is deprecated since 0.13 and may be removed in the future, please use 'weights' instead.\n",
      "  warnings.warn(\n",
      "/opt/conda/lib/python3.10/site-packages/torchvision/models/_utils.py:223: UserWarning: Arguments other than a weight enum or `None` for 'weights' are deprecated since 0.13 and may be removed in the future. The current behavior is equivalent to passing `weights=VGG16_Weights.IMAGENET1K_V1`. You can also use `weights=VGG16_Weights.DEFAULT` to get the most up-to-date weights.\n",
      "  warnings.warn(msg)\n",
      "Downloading: \"https://download.pytorch.org/models/vgg16-397923af.pth\" to /root/.cache/torch/hub/checkpoints/vgg16-397923af.pth\n",
      "100%|██████████| 528M/528M [00:08<00:00, 62.1MB/s]\n"
     ]
    },
    {
     "name": "stdout",
     "output_type": "stream",
     "text": [
      "Features' Shape :  torch.Size([32768, 1])\n"
     ]
    }
   ],
   "source": [
    "import torch\n",
    "import torch.nn as nn\n",
    "import torchvision.models as models\n",
    "import torchvision.transforms as transforms\n",
    "from PIL import Image\n",
    "\n",
    "vgg16 = models.vgg16(pretrained=True)\n",
    "vgg16.eval()\n",
    "\n",
    "def preprocess_image(image):\n",
    "    preprocess = transforms.Compose([transforms.Resize((256, 256)), \n",
    "                                     transforms.ToTensor(),\n",
    "                                     transforms.Normalize(mean=[0.485, 0.456, 0.406],\n",
    "                                                          std=[0.229, 0.224, 0.225])])\n",
    "    return preprocess(image).unsqueeze(0)\n",
    "\n",
    "image = Image.open(train_path1 + imgs1[0])\n",
    "input_tensor = preprocess_image(image)\n",
    "\n",
    "with torch.no_grad():\n",
    "    features = vgg16.features(input_tensor)\n",
    "features = features.view(-1, 1)\n",
    "print(\"Features' Shape : \", features.shape)"
   ]
  },
  {
   "cell_type": "code",
   "execution_count": 8,
   "id": "fc4c988b",
   "metadata": {
    "execution": {
     "iopub.execute_input": "2023-07-27T00:16:56.724868Z",
     "iopub.status.busy": "2023-07-27T00:16:56.724192Z",
     "iopub.status.idle": "2023-07-27T00:16:56.730758Z",
     "shell.execute_reply": "2023-07-27T00:16:56.729662Z"
    },
    "papermill": {
     "duration": 0.024807,
     "end_time": "2023-07-27T00:16:56.733169",
     "exception": false,
     "start_time": "2023-07-27T00:16:56.708362",
     "status": "completed"
    },
    "tags": []
   },
   "outputs": [],
   "source": [
    "def get_features(image_path):\n",
    "    vgg16 = models.vgg16(pretrained=True)\n",
    "    vgg16.eval()\n",
    "\n",
    "    image = Image.open(image_path)\n",
    "    input_tensor = preprocess_image(image)\n",
    "\n",
    "    with torch.no_grad():\n",
    "        return vgg16.features(input_tensor).view(-1, 1)"
   ]
  },
  {
   "cell_type": "code",
   "execution_count": 9,
   "id": "6d07470f",
   "metadata": {
    "execution": {
     "iopub.execute_input": "2023-07-27T00:16:56.764793Z",
     "iopub.status.busy": "2023-07-27T00:16:56.764381Z",
     "iopub.status.idle": "2023-07-27T00:16:59.232944Z",
     "shell.execute_reply": "2023-07-27T00:16:59.231811Z"
    },
    "papermill": {
     "duration": 2.48658,
     "end_time": "2023-07-27T00:16:59.235397",
     "exception": false,
     "start_time": "2023-07-27T00:16:56.748817",
     "status": "completed"
    },
    "tags": []
   },
   "outputs": [
    {
     "data": {
      "text/plain": [
       "array([1.1248889 , 0.        , 0.        , ..., 0.        , 0.        ,\n",
       "       0.07214714], dtype=float32)"
      ]
     },
     "execution_count": 9,
     "metadata": {},
     "output_type": "execute_result"
    }
   ],
   "source": [
    "np.array(get_features(train_path1 + imgs1[0])).flatten()"
   ]
  },
  {
   "cell_type": "code",
   "execution_count": 10,
   "id": "b45e87a9",
   "metadata": {
    "execution": {
     "iopub.execute_input": "2023-07-27T00:16:59.266417Z",
     "iopub.status.busy": "2023-07-27T00:16:59.266028Z",
     "iopub.status.idle": "2023-07-27T01:12:21.604651Z",
     "shell.execute_reply": "2023-07-27T01:12:21.602831Z"
    },
    "papermill": {
     "duration": 3322.359502,
     "end_time": "2023-07-27T01:12:21.609661",
     "exception": false,
     "start_time": "2023-07-27T00:16:59.250159",
     "status": "completed"
    },
    "tags": []
   },
   "outputs": [
    {
     "name": "stderr",
     "output_type": "stream",
     "text": [
      "/opt/conda/lib/python3.10/site-packages/scipy/__init__.py:146: UserWarning: A NumPy version >=1.16.5 and <1.23.0 is required for this version of SciPy (detected version 1.23.5\n",
      "  warnings.warn(f\"A NumPy version >={np_minversion} and <{np_maxversion}\"\n",
      "  0%|          | 0/1049 [00:00<?, ?it/s]/opt/conda/lib/python3.10/site-packages/torchvision/models/_utils.py:208: UserWarning: The parameter 'pretrained' is deprecated since 0.13 and may be removed in the future, please use 'weights' instead.\n",
      "  warnings.warn(\n",
      "/opt/conda/lib/python3.10/site-packages/torchvision/models/_utils.py:223: UserWarning: Arguments other than a weight enum or `None` for 'weights' are deprecated since 0.13 and may be removed in the future. The current behavior is equivalent to passing `weights=VGG16_Weights.IMAGENET1K_V1`. You can also use `weights=VGG16_Weights.DEFAULT` to get the most up-to-date weights.\n",
      "  warnings.warn(msg)\n",
      "100%|██████████| 1049/1049 [41:20<00:00,  2.36s/it]\n",
      "100%|██████████| 350/350 [13:55<00:00,  2.39s/it]\n"
     ]
    },
    {
     "name": "stdout",
     "output_type": "stream",
     "text": [
      "Mean Squared Error is : 20948.270291112985\n",
      "CPU times: user 50min 30s, sys: 15min 33s, total: 1h 6min 3s\n",
      "Wall time: 55min 22s\n"
     ]
    }
   ],
   "source": [
    "%%time\n",
    "from sklearn.linear_model import LinearRegression\n",
    "from sklearn.model_selection import train_test_split\n",
    "from sklearn.metrics import mean_squared_error\n",
    "\n",
    "\n",
    "y = df[df.TrajectoryId == 1]\n",
    "\n",
    "X_train, X_test, y_train, y_test = train_test_split(imgs1, y.Easting, shuffle=True)\n",
    "\n",
    "train_thresh = len(X_train)\n",
    "test_thresh = len(X_test)\n",
    "\n",
    "X_train_features = []\n",
    "X_test_features = []\n",
    "\n",
    "for i in tqdm(X_train[:train_thresh]):\n",
    "    X_train_features.append(np.array(get_features(train_path1 + i)).flatten())\n",
    "for i in tqdm(X_test[:test_thresh]):\n",
    "    X_test_features.append(np.array(get_features(train_path1 + i)).flatten())\n",
    "\n",
    "regressor = LinearRegression()\n",
    "regressor.fit(X_train_features, y_train[:train_thresh])\n",
    "\n",
    "y_pred = regressor.predict(X_test_features)\n",
    "print(f\"Mean Squared Error is : {mean_squared_error(y_pred, y_test[:test_thresh])}\")"
   ]
  }
 ],
 "metadata": {
  "kernelspec": {
   "display_name": "Python 3",
   "language": "python",
   "name": "python3"
  },
  "language_info": {
   "codemirror_mode": {
    "name": "ipython",
    "version": 3
   },
   "file_extension": ".py",
   "mimetype": "text/x-python",
   "name": "python",
   "nbconvert_exporter": "python",
   "pygments_lexer": "ipython3",
   "version": "3.10.12"
  },
  "papermill": {
   "default_parameters": {},
   "duration": 3355.012961,
   "end_time": "2023-07-27T01:12:23.334977",
   "environment_variables": {},
   "exception": null,
   "input_path": "__notebook__.ipynb",
   "output_path": "__notebook__.ipynb",
   "parameters": {},
   "start_time": "2023-07-27T00:16:28.322016",
   "version": "2.4.0"
  }
 },
 "nbformat": 4,
 "nbformat_minor": 5
}
